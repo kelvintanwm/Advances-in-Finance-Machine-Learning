{
 "cells": [
  {
   "cell_type": "markdown",
   "metadata": {},
   "source": [
    "# Dollar Bar/ Imbalance bar\n",
    "\n",
    "In view of absence of open-source quant library and other resources. This notebook will cover specifically only how to restructure your HFT data into dollar bar data sample.\n",
    "\n",
    "Using such data structure could generate good market signal for different plausible quant strategies.\n",
    "\n",
    "In order to appreciate this technique, I highly recommend you to read the below research.\n",
    "\n",
    "[Volume Clock SSRN](https://papers.ssrn.com/sol3/papers.cfm?abstract_id=2034858)\n",
    "\n",
    "[Free HFT data generator](https://gist.github.com/boyboi86/5e00faf48f60abfdbe838fbdee269471)\n",
    "\n",
    "Please remember to save this as your sample data to csv format, otherwise, your result may not be consistant. (This sample data can get you started for 1st 5 chapters)\n",
    "\n",
    "It is not easy to be motivated because everything within the AFML textbook are considered advance techniques which combines Statistics/ Finance/ Behavioral Economics. Moreover, all the codes I used were written mostly from scratch (proprietary) plus the idea of maintaining a open-source quant library is daunting especially when I am doing everything alone.\n",
    "\n",
    "I hope by sharing some snippet of codes would provide some assistance to appreciate the mathematical motivation behind what Dr Marcos' work, but more importantly assist in your learning progress.\n",
    "\n",
    "Contact: boyboi86@gmail.com"
   ]
  },
  {
   "cell_type": "code",
   "execution_count": 1,
   "metadata": {},
   "outputs": [
    {
     "name": "stdout",
     "output_type": "stream",
     "text": [
      "Num of CPU core:  4\n",
      "Machine info:  Windows-10-10.0.18362-SP0\n",
      "Python 3.7.4 (default, Aug  9 2019, 18:34:13) [MSC v.1915 64 bit (AMD64)]\n",
      "Numpy 1.18.5\n",
      "Pandas 1.0.4\n"
     ]
    }
   ],
   "source": [
    "import numpy as np\n",
    "import pandas as pd\n",
    "import matplotlib.pyplot as plt\n",
    "import research as rs\n",
    "\n",
    "%matplotlib inline\n",
    "\n",
    "#pls take note of version\n",
    "#numpy 1.17.3\n",
    "#pandas 1.0.3\n",
    "#sklearn 0.21.3"
   ]
  },
  {
   "cell_type": "code",
   "execution_count": 2,
   "metadata": {},
   "outputs": [
    {
     "data": {
      "image/png": "[encoded data removed]",
      "text/plain": [
       "<Figure size 432x288 with 1 Axes>"
      ]
     },
     "metadata": {
      "needs_background": "light"
     },
     "output_type": "display_data"
    }
   ],
   "source": [
    "data = rs.create_price_data()"
   ]
  },
  {
   "cell_type": "markdown",
   "metadata": {},
   "source": [
    "**Note**\n",
    "\n",
    "The above data was generated based on the function I created.\n",
    "\n",
    "The gist link is provided above.\n",
    "\n",
    "Different types of generators are used for different cases studies/ research so make sure you choose the right one.\n",
    "\n",
    "**Note**\n",
    "\n",
    "Remember to save the generated data to csv format so that your answers can be consistent.\n",
    "\n",
    "At the same time, you can run the function multiple times to get a time-series price that are closer to S&P futures price.\n",
    "\n",
    "It's possible. I tried before."
   ]
  },
  {
   "cell_type": "code",
   "execution_count": 3,
   "metadata": {},
   "outputs": [
    {
     "data": {
      "text/html": [
       "<div>\n",
       "<style scoped>\n",
       "    .dataframe tbody tr th:only-of-type {\n",
       "        vertical-align: middle;\n",
       "    }\n",
       "\n",
       "    .dataframe tbody tr th {\n",
       "        vertical-align: top;\n",
       "    }\n",
       "\n",
       "    .dataframe thead th {\n",
       "        text-align: right;\n",
       "    }\n",
       "</style>\n",
       "<table border=\"1\" class=\"dataframe\">\n",
       "  <thead>\n",
       "    <tr style=\"text-align: right;\">\n",
       "      <th></th>\n",
       "      <th>close</th>\n",
       "    </tr>\n",
       "  </thead>\n",
       "  <tbody>\n",
       "    <tr>\n",
       "      <th>2018-09-20 04:30:15.514334</th>\n",
       "      <td>1000.000000</td>\n",
       "    </tr>\n",
       "    <tr>\n",
       "      <th>2018-09-20 04:31:15.514334</th>\n",
       "      <td>998.543690</td>\n",
       "    </tr>\n",
       "    <tr>\n",
       "      <th>2018-09-20 04:32:15.514334</th>\n",
       "      <td>997.530318</td>\n",
       "    </tr>\n",
       "    <tr>\n",
       "      <th>2018-09-20 04:33:15.514334</th>\n",
       "      <td>998.541121</td>\n",
       "    </tr>\n",
       "    <tr>\n",
       "      <th>2018-09-20 04:34:15.514334</th>\n",
       "      <td>999.698486</td>\n",
       "    </tr>\n",
       "    <tr>\n",
       "      <th>...</th>\n",
       "      <td>...</td>\n",
       "    </tr>\n",
       "    <tr>\n",
       "      <th>2020-08-14 15:05:15.514334</th>\n",
       "      <td>934.038261</td>\n",
       "    </tr>\n",
       "    <tr>\n",
       "      <th>2020-08-14 15:06:15.514334</th>\n",
       "      <td>933.225359</td>\n",
       "    </tr>\n",
       "    <tr>\n",
       "      <th>2020-08-14 15:07:15.514334</th>\n",
       "      <td>930.604014</td>\n",
       "    </tr>\n",
       "    <tr>\n",
       "      <th>2020-08-14 15:08:15.514334</th>\n",
       "      <td>931.115651</td>\n",
       "    </tr>\n",
       "    <tr>\n",
       "      <th>2020-08-14 15:09:15.514334</th>\n",
       "      <td>931.679206</td>\n",
       "    </tr>\n",
       "  </tbody>\n",
       "</table>\n",
       "<p>1000000 rows × 1 columns</p>\n",
       "</div>"
      ],
      "text/plain": [
       "                                  close\n",
       "2018-09-20 04:30:15.514334  1000.000000\n",
       "2018-09-20 04:31:15.514334   998.543690\n",
       "2018-09-20 04:32:15.514334   997.530318\n",
       "2018-09-20 04:33:15.514334   998.541121\n",
       "2018-09-20 04:34:15.514334   999.698486\n",
       "...                                 ...\n",
       "2020-08-14 15:05:15.514334   934.038261\n",
       "2020-08-14 15:06:15.514334   933.225359\n",
       "2020-08-14 15:07:15.514334   930.604014\n",
       "2020-08-14 15:08:15.514334   931.115651\n",
       "2020-08-14 15:09:15.514334   931.679206\n",
       "\n",
       "[1000000 rows x 1 columns]"
      ]
     },
     "execution_count": 3,
     "metadata": {},
     "output_type": "execute_result"
    }
   ],
   "source": [
    "data # 2 years worth of data on per min basis"
   ]
  },
  {
   "cell_type": "markdown",
   "metadata": {},
   "source": [
    "**Note**\n",
    "\n",
    "For the purpose of demostration and simplicity, we will assume the \"close\" price is actually total dollar-volume transacted.\n",
    "\n",
    "This is an important assumption!\n",
    "\n",
    "**Note**\n",
    "\n",
    "The whole idea is that whenever the transacted volume deviates from normal/ expected 10% of daily transacted dollar-volume (Refer to research paper provided). This resampled data will quickly capture such abnormality.\n",
    "\n",
    "If transaction dollar-volume exceeds expectation (abnormal market behavior), it would reflect in the investors/ traders pouring/ unloading a particular asset hence driving up the prices and vice versa.\n",
    "\n",
    "**Note**\n",
    "\n",
    "Try to understand the code snippet then try to read the mathematical equation again. It would make more sense."
   ]
  },
  {
   "cell_type": "code",
   "execution_count": 4,
   "metadata": {},
   "outputs": [],
   "source": [
    "def dd_bars(data: pd.DataFrame, m: int = None):\n",
    "    '''\n",
    "    params: data => dataframe of close series\n",
    "    params: column => column of data sample; vol, dollar etc\n",
    "    '''    \n",
    "    ts, idx = 0, []\n",
    "    for i, x in enumerate(data):\n",
    "        ts += x\n",
    "        if ts >= m:\n",
    "            ts = 0; idx.append(i)\n",
    "            continue\n",
    "    return data.iloc[idx]"
   ]
  },
  {
   "cell_type": "markdown",
   "metadata": {},
   "source": [
    "**Note**\n",
    "\n",
    "The below is the outcome after we resample the data.\n"
   ]
  },
  {
   "cell_type": "code",
   "execution_count": 5,
   "metadata": {},
   "outputs": [
    {
     "data": {
      "text/plain": [
       "2018-09-20 21:12:15.514334     979.797689\n",
       "2018-09-21 14:29:15.514334     941.202564\n",
       "2018-09-22 07:59:15.514334     958.991442\n",
       "2018-09-23 00:57:15.514334     987.582134\n",
       "2018-09-23 17:28:15.514334    1021.631874\n",
       "                                 ...     \n",
       "2020-08-11 06:09:15.514334     854.092356\n",
       "2020-08-12 01:28:15.514334     861.996249\n",
       "2020-08-12 20:38:15.514334     888.859414\n",
       "2020-08-13 14:58:15.514334     914.903432\n",
       "2020-08-14 08:58:15.514334     947.081958\n",
       "Name: close, Length: 1309, dtype: float64"
      ]
     },
     "execution_count": 5,
     "metadata": {},
     "output_type": "execute_result"
    }
   ],
   "source": [
    "tb = dd_bars(data = data.close, m = 1000000) # assuming 10% of daily transacted volme is 1,000,000\n",
    "tb"
   ]
  },
  {
   "cell_type": "markdown",
   "metadata": {},
   "source": [
    "**Note**\n",
    "\n",
    "If your realized by now, total data points generated was different after we resample them.\n",
    "\n",
    "Based on per minute basis, if any abnormal market price bahvior was detected, it would have produce a \"buy\"/ \"sell\" signal depending on the type of investment factor (long/short)."
   ]
  },
  {
   "cell_type": "code",
   "execution_count": 6,
   "metadata": {},
   "outputs": [
    {
     "data": {
      "text/plain": [
       "<matplotlib.axes._subplots.AxesSubplot at 0x207d57bcfc8>"
      ]
     },
     "execution_count": 6,
     "metadata": {},
     "output_type": "execute_result"
    },
    {
     "data": {
      "image/png": "[encoded data removed]",
      "text/plain": [
       "<Figure size 432x288 with 1 Axes>"
      ]
     },
     "metadata": {
      "needs_background": "light"
     },
     "output_type": "display_data"
    }
   ],
   "source": [
    "tb.plot()"
   ]
  },
  {
   "cell_type": "markdown",
   "metadata": {},
   "source": [
    "**Note**\n",
    "\n",
    "The code snippet is just to assist you to appreciate the mathematical motivation for this technique. \n",
    "\n",
    "However, more could be done to improve this algorithm. Feel free to customize them.\n",
    "\n",
    "**Note**\n",
    "\n",
    "This algorithm although widely used in index futures/ commodities derivatives is applicable to crypto assets.\n",
    "\n",
    "In fact, I believe it is well-adapted to crypto-assets since it factors in alot of behaviorial economics element."
   ]
  },
  {
   "cell_type": "code",
   "execution_count": 7,
   "metadata": {},
   "outputs": [],
   "source": [
    "def returns(data, tickers):\n",
    "    b_t = []\n",
    "    _ = data[tickers].pct_change()\n",
    "    _.dropna(inplace=True)\n",
    "    for i, value in enumerate(_):\n",
    "        b_t.append(value)\n",
    "    return b_t\n",
    "\n",
    "def ema_tick(imbalance, weighted_count, weighted_sum, weighted_sum_T, limit, alpha, T_count):\n",
    "    weighted_sum_T = limit + (1 - alpha) * weighted_sum_T\n",
    "    weighted_sum = limit / (1.0 * T_count) + (1 - alpha) * weighted_sum\n",
    "    weighted_count = 1 + (1 - alpha) * weighted_count\n",
    "    imbalance = weighted_sum_T * weighted_sum/ weighted_count ** 2\n",
    "    return imbalance, weighted_count, weighted_sum, weighted_sum_T\n",
    "\n",
    "def imbalance_bar(data, tickers, set_limit, alpha):\n",
    "    b_t = returns(data, tickers)\n",
    "    bt_arr = []\n",
    "    imb_arr = []\n",
    "    weighted_sum_T = 0\n",
    "    weighted_sum = 0\n",
    "    weighted_count = 0\n",
    "    bt_count = 0\n",
    "    bt_up = 0\n",
    "    b_imb_sum = 0\n",
    "    b_sum = 0\n",
    "    imbalance = 0\n",
    "    for i, value in enumerate(b_t):\n",
    "        bt_count += 1\n",
    "        if value >= 0:\n",
    "            b_sum += b_t[i]\n",
    "            b_imb_sum += 1\n",
    "            bt_up += 1\n",
    "            bt_arr.append(b_sum)\n",
    "        else:\n",
    "            b_imb_sum -= 1\n",
    "            b_sum += b_t[i]\n",
    "            bt_arr.append(b_sum)\n",
    "            \n",
    "        upper_limit = max(b_imb_sum, bt_up)\n",
    "        if upper_limit >= set_limit:\n",
    "            imbalance, weighted_count, weighted_sum, weighted_sum_T = ema_tick(imbalance, \n",
    "                                                                               weighted_count,\n",
    "                                                                               weighted_sum,\n",
    "                                                                               weighted_sum_T,\n",
    "                                                                               upper_limit,\n",
    "                                                                               alpha,\n",
    "                                                                               bt_count)\n",
    "            imb_arr.append(imbalance) # exclude ewma without hitting threshold\n",
    "            if upper_limit == bt_up:\n",
    "                bt_up = 0\n",
    "            else:\n",
    "                b_imb_sum = 0\n",
    "        else:\n",
    "            imb_arr.append(0.0)    \n",
    "    return bt_arr, imb_arr, b_t"
   ]
  },
  {
   "cell_type": "markdown",
   "metadata": {},
   "source": [
    "**Note**\n",
    "\n",
    "The above is for imbalance bar sampling.\n",
    "\n",
    "As you can see it includes both buy and sell transactions dollar-volume. Instead of a single-direction like dollar bar sample as demostrated above.\n",
    "\n",
    "**Note**\n",
    "\n",
    "This is important especially for liquidity check/ impact analysis, since algorithms does not factor in liquidity drying up. If a strong imbalance is noticed, bid-ask spread will start to increase.\n",
    "\n",
    "This will impact profitability of transactions especially for HFT.\n",
    "\n",
    "**Note**\n",
    "\n",
    "If a quant trader were using VWAP as a indicator for signal effect. He or she might require to understand the above algorithm, to avoid thinning profit margins."
   ]
  }
 ],
 "metadata": {
  "kernelspec": {
   "display_name": "Python 3",
   "language": "python",
   "name": "python3"
  },
  "language_info": {
   "codemirror_mode": {
    "name": "ipython",
    "version": 3
   },
   "file_extension": ".py",
   "mimetype": "text/x-python",
   "name": "python",
   "nbconvert_exporter": "python",
   "pygments_lexer": "ipython3",
   "version": "3.7.4"
  }
 },
 "nbformat": 4,
 "nbformat_minor": 2
}
