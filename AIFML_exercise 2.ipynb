{
 "cells": [
  {
   "attachments": {},
   "cell_type": "markdown",
   "metadata": {},
   "source": [
    "# Data Structure\n",
    "This notebook will cover:\n",
    "\n",
    "Exercise 2.\n",
    "\n",
    "Using different types of data structure to transform time-series into event-driven order.\n",
    "\n",
    "Instead of market price time-series, we form somewhat an transaction volume expectation to total transaction volume to resample data.\n",
    "\n",
    "Using such data structure could generate good market signal for different plausible quant strategies.\n",
    "\n",
    "In order to appreciate this technique, I highly recommend you to read the below research.\n",
    "https://papers.ssrn.com/sol3/papers.cfm?abstract_id=2034858"
   ]
  },
  {
   "attachments": {},
   "cell_type": "markdown",
   "metadata": {},
   "source": [
    "If actual High-frequency data is not within your reach, you may wish to try with the below code:\n",
    "\n",
    "def create_price_data(start_price: float = 1000.00,\n",
    "                      mu: float = .0,\n",
    "                      var: float = 1.0,\n",
    "                      n_samples: int = 1000000):\n",
    "\n",
    "    import numpy as np\n",
    "    import pandas as pd\n",
    "\n",
    "    i = np.random.normal(mu, var, n_samples)\n",
    "    df0 = pd.date_range(periods=n_samples,\n",
    "                        freq=pd.tseries.offsets.Minute(),\n",
    "                        end=pd.datetime.today())\n",
    "\n",
    "    X = pd.Series(i, index=df0, name = \"close\").to_frame()\n",
    "    X.close.iat[0] = start_price\n",
    "    X.cumsum().plot.line()\n",
    "    return X.cumsum()\n",
    "\n",
    "The above function can generate about 2 years of synthetic raw data, so that you can start to structure your data into dollar bars.\n",
    "\n",
    "Please remember to save this as your sample data to csv format, otherwise, your result may not be consistant. (This sample data can get you started for 1st 5 chapters)"
   ]
  },
  {
   "cell_type": "markdown",
   "metadata": {},
   "source": []
  },
  {
   "cell_type": "code",
   "execution_count": null,
   "metadata": {},
   "outputs": [],
   "source": []
  },
  {
   "cell_type": "code",
   "execution_count": null,
   "metadata": {},
   "outputs": [],
   "source": []
  },
  {
   "cell_type": "code",
   "execution_count": null,
   "metadata": {},
   "outputs": [],
   "source": []
  }
 ],
 "metadata": {
  "language_info": {
   "name": "python"
  },
  "orig_nbformat": 4
 },
 "nbformat": 4,
 "nbformat_minor": 2
}
